{
 "cells": [
  {
   "cell_type": "code",
   "execution_count": 2,
   "id": "f5255243-a4b5-48bd-9e44-4eac9a130b8b",
   "metadata": {},
   "outputs": [
    {
     "name": "stdout",
     "output_type": "stream",
     "text": [
      "\n",
      "******************************************************************************\n",
      "This program contains Ipopt, a library for large-scale nonlinear optimization.\n",
      " Ipopt is released as open source code under the Eclipse Public License (EPL).\n",
      "         For more information visit https://github.com/coin-or/Ipopt\n",
      "******************************************************************************\n",
      "\n",
      "This is Ipopt version 3.14.5, running with linear solver MUMPS 5.2.1.\n",
      "\n",
      "Number of nonzeros in equality constraint Jacobian...:        0\n",
      "Number of nonzeros in inequality constraint Jacobian.:        0\n",
      "Number of nonzeros in Lagrangian Hessian.............:       18\n",
      "\n",
      "Total number of variables............................:        6\n",
      "                     variables with only lower bounds:        0\n",
      "                variables with lower and upper bounds:        0\n",
      "                     variables with only upper bounds:        0\n",
      "Total number of equality constraints.................:        0\n",
      "Total number of inequality constraints...............:        0\n",
      "        inequality constraints with only lower bounds:        0\n",
      "   inequality constraints with lower and upper bounds:        0\n",
      "        inequality constraints with only upper bounds:        0\n",
      "\n",
      "iter    objective    inf_pr   inf_du lg(mu)  ||d||  lg(rg) alpha_du alpha_pr  ls\n",
      "   0  4.8403094e-01 0.00e+00 2.00e+00  -1.0 0.00e+00    -  0.00e+00 0.00e+00   0\n",
      "   1  2.1647158e-01 0.00e+00 1.07e+00  -1.0 5.80e+00    -  1.00e+00 1.25e-01f  4\n",
      "   2  1.7114271e-03 0.00e+00 1.30e-01  -1.0 1.19e+00    -  1.00e+00 2.50e-01f  3\n",
      "   3  1.2465149e-06 0.00e+00 3.75e-03  -2.5 2.35e-02    -  1.00e+00 1.00e+00f  1\n",
      "   4  6.0535935e-13 0.00e+00 2.60e-06  -3.8 6.43e-04    -  1.00e+00 1.00e+00f  1\n",
      "   5  1.7198799e-17 0.00e+00 1.26e-12  -8.6 4.46e-07    -  1.00e+00 1.00e+00f  1\n",
      "\n",
      "Number of Iterations....: 5\n",
      "\n",
      "                                   (scaled)                 (unscaled)\n",
      "Objective...............:   1.7198798532316969e-17    1.7198798532316969e-17\n",
      "Dual infeasibility......:   1.2629068701012324e-12    1.2629068701012324e-12\n",
      "Constraint violation....:   0.0000000000000000e+00    0.0000000000000000e+00\n",
      "Variable bound violation:   0.0000000000000000e+00    0.0000000000000000e+00\n",
      "Complementarity.........:   0.0000000000000000e+00    0.0000000000000000e+00\n",
      "Overall NLP error.......:   1.2629068701012324e-12    1.2629068701012324e-12\n",
      "\n",
      "\n",
      "Number of objective function evaluations             = 19\n",
      "Number of objective gradient evaluations             = 6\n",
      "Number of equality constraint evaluations            = 0\n",
      "Number of inequality constraint evaluations          = 0\n",
      "Number of equality constraint Jacobian evaluations   = 0\n",
      "Number of inequality constraint Jacobian evaluations = 0\n",
      "Number of Lagrangian Hessian evaluations             = 5\n",
      "Total seconds in IPOPT                               = 0.004\n",
      "\n",
      "EXIT: Solved To Acceptable Level.\n",
      "/home/jcress/code/planter\n"
     ]
    }
   ],
   "source": [
    "# %load '/home/jcress/code/planter/planter/planter.py'\n",
    "#!/usr/bin/env python\n",
    "\n",
    "from dataclasses import dataclass, field\n",
    "from typing import List\n",
    "\n",
    "import cadquery as cq\n",
    "\n",
    "_DEFAULT_DIMS = [150, 150, 75]\n",
    "_DEFAULT_WALL = 5\n",
    "\n",
    "\n",
    "@dataclass\n",
    "class base:\n",
    "    \"\"\"\n",
    "    base of planter\n",
    "    \"\"\"\n",
    "\n",
    "    dims: List[float] = field(default_factory=lambda: _DEFAULT_DIMS)\n",
    "    sides: int = 6\n",
    "    wall_thickness: int = _DEFAULT_WALL\n",
    "\n",
    "    def __post_init__(self):\n",
    "        self.x, self.y, self.z = self.dims\n",
    "        self.shape = cq.Workplane(\"XY\").polygon(self.sides, self.x).extrude(\n",
    "            self.z).faces(\"+Z\").shell(self.wall_thickness).translate(\n",
    "                cq.Vector(0, 0, self.wall_thickness))\n",
    "        # todo: rescale when x != y\n",
    "\n",
    "\n",
    "@dataclass\n",
    "class insert:\n",
    "    \"\"\"\n",
    "    define the insert\n",
    "    \"\"\"\n",
    "    dims: List[float] = field(default_factory=_DEFAULT_DIMS)\n",
    "    sides: int = 6\n",
    "    wall_thickness: int = _DEFAULT_WALL\n",
    "    top_height: float = 20\n",
    "    bottom_offset: float = .3\n",
    "\n",
    "    def __post_init__(self):\n",
    "        self.x, self.y, self.z = self.dims\n",
    "\n",
    "        self._xy_shape = (cq.Sketch().regularPolygon(n=self.sides,\n",
    "                                                     r=int(self.x / 2)))\n",
    "\n",
    "        self._bottom = (cq.Sketch().regularPolygon(n=self.sides,\n",
    "                                                   r=int(self.x / 2) *\n",
    "                                                   self.bottom_offset))\n",
    "        self._hole = (cq.Sketch().trapezoid(20, 1, 110).fillet(0.2))\n",
    "        self._middle = cq.Workplane().placeSketch(\n",
    "            self._xy_shape.moved(cq.Location(cq.Vector(0, 0, self.z))),\n",
    "            self._bottom).loft().faces(\"+Z\").shell(self.wall_thickness *\n",
    "                                                   -self.bottom_offset)\n",
    "\n",
    "        self._middle = self._middle.faces(\">X and >Y\").workplane().transformed(\n",
    "            (0, 0, -90)).placeSketch(self._hole).cutThruAll()\n",
    "        self._middle = self._middle.faces(\"<X and <Y\").workplane().transformed(\n",
    "            (0, 0, -90)).placeSketch(self._hole).cutThruAll()\n",
    "\n",
    "        self._top = cq.Workplane(\"XY\").placeSketch(\n",
    "            self._xy_shape,\n",
    "            self._xy_shape.moved(cq.Location(cq.Vector(0, 0,\n",
    "                                                       self.top_height))),\n",
    "        ).loft().faces(\"+Z or -Z\").shell(self.wall_thickness).union(\n",
    "            cq.Workplane(\"XY\").placeSketch(\n",
    "                self._xy_shape,\n",
    "                self._xy_shape.moved(\n",
    "                    cq.Location(cq.Vector(0, 0, self.top_height))),\n",
    "            ).loft().faces(\"+Z or -Z\").shell(-self.wall_thickness))\n",
    "\n",
    "        self.shape = self._top.translate(cq.Vector(0, 0,\n",
    "                                                   self.z)).union(self._middle)\n",
    "\n",
    "\n",
    "def assembly(dims: List[float] = None):\n",
    "    \"\"\"assemble\"\"\"\n",
    "    x, y, z = dims = _DEFAULT_DIMS if dims is None else dims\n",
    "    _base = base(dims=dims).shape\n",
    "    _insert = insert(dims=dims).shape\n",
    "    _out = (cq.Assembly().add(_base, name=\"base\", color=cq.Color(\"red\")).add(\n",
    "        _insert, name=\"insert\", color=cq.Color(\"blue\")))\n",
    "    _out.constrain(\"base@faces@Z\", \"insert@faces@<Z\", \"Plane\")\n",
    "    _out.constrain(\"insert\", \"FixedRotation\", (0, 0, 90))\n",
    "    _out.solve()\n",
    "\n",
    "    # _out = _insert\n",
    "    return _out\n",
    "\n",
    "\n",
    "if __name__ == \"__main__\":\n",
    "    import subprocess\n",
    "\n",
    "    out = assembly()\n",
    "\n",
    "    out_dir = subprocess.check_output(\"git rev-parse --show-toplevel\",\n",
    "                                      shell=True,\n",
    "                                      text=True).rstrip()\n",
    "    print(out_dir)\n",
    "    _base = base(dims=_DEFAULT_DIMS).shape\n",
    "    cq.exporters.export(_base, \"{out_dir}/stl/base.stl\")\n",
    "    _base.val().exportStl(\"{out_dir}/stl/base.stl\")\n",
    "    _insert = insert(dims=_DEFAULT_DIMS).shape\n",
    "    cq.exporters.export(_insert, \"{out_dir}/stl/insert.stl\")\n",
    "\n",
    "else:\n",
    "    render = assembly()\n",
    "    show_object(render)\n"
   ]
  },
  {
   "cell_type": "code",
   "execution_count": 3,
   "id": "38be7212-5f4a-4ba5-906a-bf658ec28ed5",
   "metadata": {},
   "outputs": [
    {
     "ename": "NameError",
     "evalue": "name 'show' is not defined",
     "output_type": "error",
     "traceback": [
      "\u001b[0;31m---------------------------------------------------------------------------\u001b[0m",
      "\u001b[0;31mNameError\u001b[0m                                 Traceback (most recent call last)",
      "\u001b[0;32m/tmp/ipykernel_51605/712055944.py\u001b[0m in \u001b[0;36m<cell line: 1>\u001b[0;34m()\u001b[0m\n\u001b[0;32m----> 1\u001b[0;31m \u001b[0mshow\u001b[0m\u001b[0;34m(\u001b[0m\u001b[0mbase\u001b[0m\u001b[0;34m)\u001b[0m\u001b[0;34m\u001b[0m\u001b[0;34m\u001b[0m\u001b[0m\n\u001b[0m",
      "\u001b[0;31mNameError\u001b[0m: name 'show' is not defined"
     ]
    }
   ],
   "source": [
    "show(base)"
   ]
  },
  {
   "cell_type": "code",
   "execution_count": 4,
   "id": "d7597b67-1ad3-4e82-a741-4f12bbf07642",
   "metadata": {},
   "outputs": [
    {
     "name": "stdout",
     "output_type": "stream",
     "text": [
      "Overwriting auto display for cadquery Workplane and Shape\n"
     ]
    }
   ],
   "source": [
    "from jupyter_cadquery import set_defaults, open_viewer\n",
    "set_defaults(theme=\"dark\")\n",
    "cv=open_viewer(\"CadQuery\")"
   ]
  },
  {
   "cell_type": "code",
   "execution_count": 5,
   "id": "5ad6b50e-bba4-4d36-8857-8762ee7ae1a1",
   "metadata": {},
   "outputs": [
    {
     "data": {
      "text/plain": [
       "<cad_viewer_widget.widget.CadViewer at 0x7f3e0b11c8e0>"
      ]
     },
     "execution_count": 5,
     "metadata": {},
     "output_type": "execute_result"
    }
   ],
   "source": [
    "from jupyter_cadquery import show\n",
    "show(_insert)"
   ]
  },
  {
   "cell_type": "code",
   "execution_count": 6,
   "id": "b9c5d2c3-dcce-45fa-9b2a-f216cbb5c7d9",
   "metadata": {},
   "outputs": [
    {
     "name": "stdout",
     "output_type": "stream",
     "text": [
      "/home/jcress/code/planter\n"
     ]
    }
   ],
   "source": [
    "out_dir = subprocess.check_output(\"git rev-parse --show-toplevel\",\n",
    "                                      shell=True,\n",
    "                                      text=True).rstrip()\n",
    "print(out_dir)\n",
    "_base = base(dims=_DEFAULT_DIMS).shape\n",
    "cq.exporters.export(_base, \"{out_dir}/stl/base.stl\")\n"
   ]
  },
  {
   "cell_type": "code",
   "execution_count": null,
   "id": "24ab4d73-2653-44ef-b2dc-dc042527670a",
   "metadata": {},
   "outputs": [],
   "source": []
  }
 ],
 "metadata": {
  "kernelspec": {
   "display_name": "Python 3 (ipykernel)",
   "language": "python",
   "name": "python3"
  },
  "language_info": {
   "codemirror_mode": {
    "name": "ipython",
    "version": 3
   },
   "file_extension": ".py",
   "mimetype": "text/x-python",
   "name": "python",
   "nbconvert_exporter": "python",
   "pygments_lexer": "ipython3",
   "version": "3.10.4"
  }
 },
 "nbformat": 4,
 "nbformat_minor": 5
}
